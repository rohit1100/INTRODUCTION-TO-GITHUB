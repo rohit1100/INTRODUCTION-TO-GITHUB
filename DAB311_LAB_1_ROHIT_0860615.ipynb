{
  "nbformat": 4,
  "nbformat_minor": 0,
  "metadata": {
    "colab": {
      "provenance": []
    },
    "kernelspec": {
      "name": "python3",
      "display_name": "Python 3"
    }
  },
  "cells": [
    {
      "cell_type": "markdown",
      "source": [
        "# NAME- ROHIT\n",
        "# STUDENT ID -0860615\n",
        "# DAB311_lab1\n",
        "# SECTION -045"
      ],
      "metadata": {
        "id": "hD8ielPI0VOj"
      }
    },
    {
      "cell_type": "markdown",
      "source": [
        "# Library calls"
      ],
      "metadata": {
        "id": "bvg7BHXH1s40"
      }
    },
    {
      "cell_type": "code",
      "source": [
        "import tensorflow as tf\n",
        "print(\"tf.__version__\", tf.__version__)\n",
        "\n",
        "import torch\n",
        "print(\"torch.__version__\", torch.__version__)\n",
        "\n",
        "import numpy as np\n",
        "print(\"np.__version__\", np.__version__)"
      ],
      "metadata": {
        "colab": {
          "base_uri": "https://localhost:8080/"
        },
        "id": "B4l0gAxa0SRo",
        "outputId": "34360893-a8d0-4dd0-b13f-28a947b09b35"
      },
      "execution_count": 18,
      "outputs": [
        {
          "output_type": "stream",
          "name": "stdout",
          "text": [
            "tf.__version__ 2.17.0\n",
            "torch.__version__ 2.4.0+cu121\n",
            "np.__version__ 1.26.4\n"
          ]
        }
      ]
    },
    {
      "cell_type": "code",
      "metadata": {
        "id": "_HfT2IR6JIFx",
        "colab": {
          "base_uri": "https://localhost:8080/"
        },
        "outputId": "e733027c-f94c-43e7-8070-7205d800b980"
      },
      "source": [
        "print(('GPU available for use?\\n{0}').format(\n",
        "    'GPU is available: True' if len(tf.config.list_physical_devices('GPU'))>0 else 'GPU is NOT available: False'\n",
        "))\n",
        "\n",
        "print(('\\nYour available devices:\\n{0}').format(\n",
        "    [device.name for device in tf.config.experimental.list_physical_devices()]\n",
        "))"
      ],
      "execution_count": 2,
      "outputs": [
        {
          "output_type": "stream",
          "name": "stdout",
          "text": [
            "GPU available for use?\n",
            "GPU is NOT available: False\n",
            "\n",
            "Your available devices:\n",
            "['/physical_device:CPU:0']\n"
          ]
        }
      ]
    },
    {
      "cell_type": "markdown",
      "source": [
        "# Basic TF operations"
      ],
      "metadata": {
        "id": "IkJaUxhjuLVm"
      }
    },
    {
      "cell_type": "code",
      "metadata": {
        "id": "hLWzaW2BJLCM",
        "colab": {
          "base_uri": "https://localhost:8080/"
        },
        "outputId": "f4444e41-c82c-4c51-d887-423dd1b9c0a6"
      },
      "source": [
        "a = tf.constant(10)\n",
        "b = tf.constant(20)\n",
        "\n",
        "t1 = tf.multiply(a,b)\n",
        "t2 = tf.add(a,b)\n",
        "res = tf.divide(t1,t2)\n",
        "\n",
        "# print the tensor object\n",
        "print(res)\n",
        "\n",
        "# print the value of the tensor object\n",
        "tf.print(res, [res])"
      ],
      "execution_count": 3,
      "outputs": [
        {
          "output_type": "stream",
          "name": "stdout",
          "text": [
            "tf.Tensor(6.666666666666667, shape=(), dtype=float64)\n",
            "6.666666666666667 [6.666666666666667]\n"
          ]
        }
      ]
    },
    {
      "cell_type": "markdown",
      "source": [
        "#Comparing time spent using CPU vs GPU\n",
        "As a simple operation, create a constant with tf.constant and an identity matrix with tf.eye, and measure the time spent for performing these operations"
      ],
      "metadata": {
        "id": "Z6-EcDM3uUEr"
      }
    },
    {
      "cell_type": "code",
      "metadata": {
        "id": "fXZ1tAuuJTsr",
        "colab": {
          "base_uri": "https://localhost:8080/"
        },
        "outputId": "111b380b-b963-4a2f-8be6-3e4046b64d8a"
      },
      "source": [
        "import time\n",
        "\n",
        "cpu_slot = 0\n",
        "gpu_slot = 0\n",
        "\n",
        "# Using CPU at slot 0\n",
        "with tf.device('/CPU:' + str(cpu_slot)):\n",
        "    # Starting a timer\n",
        "    start = time.time()\n",
        "\n",
        "    # Doing operations on CPU\n",
        "    A = tf.constant([[3, 2], [5, 2]])\n",
        "    print(tf.eye(2,2))\n",
        "\n",
        "    # Printing how long it took with CPU\n",
        "    end = time.time() - start\n",
        "    print(\"CPU run time: %s \\n\" %np.round(end,6))\n",
        "\n",
        "# Using the GPU at slot 0\n",
        "with tf.device('/GPU:' + str(gpu_slot)):\n",
        "    # Starting a timer\n",
        "    start = time.time()\n",
        "\n",
        "    # Doing operations on CPU\n",
        "    A = tf.constant([[3, 2], [5, 2]])\n",
        "    print(tf.eye(2,2))\n",
        "\n",
        "    # Printing how long it took with GPU\n",
        "    end = time.time() - start\n",
        "    print(\"GPU run time: %s \\n\" %np.round(end,6))"
      ],
      "execution_count": 4,
      "outputs": [
        {
          "output_type": "stream",
          "name": "stdout",
          "text": [
            "tf.Tensor(\n",
            "[[1. 0.]\n",
            " [0. 1.]], shape=(2, 2), dtype=float32)\n",
            "CPU run time: 0.012522 \n",
            "\n",
            "tf.Tensor(\n",
            "[[1. 0.]\n",
            " [0. 1.]], shape=(2, 2), dtype=float32)\n",
            "GPU run time: 0.003339 \n",
            "\n"
          ]
        }
      ]
    },
    {
      "cell_type": "markdown",
      "source": [
        "# Making tensors with tf.constant and tf.Variable"
      ],
      "metadata": {
        "id": "6kAnVqBlulNy"
      }
    },
    {
      "cell_type": "code",
      "metadata": {
        "id": "h-2nv_nsJUpT",
        "colab": {
          "base_uri": "https://localhost:8080/"
        },
        "outputId": "8caa8586-3258-4307-efd5-7c266a2e2228"
      },
      "source": [
        "# Making a constant tensor A, that does not change\n",
        "A = tf.constant([[3, 2],\n",
        "                 [5, 2]])\n",
        "\n",
        "# Making a Variable tensor VA, which can change. Notice it's .Variable\n",
        "VA = tf.Variable([[3, 2],\n",
        "                 [5, 2]])\n",
        "\n",
        "# Making another tensor B\n",
        "B = tf.constant([[9, 5],\n",
        "                 [1, 3]])\n",
        "print(A)"
      ],
      "execution_count": 5,
      "outputs": [
        {
          "output_type": "stream",
          "name": "stdout",
          "text": [
            "tf.Tensor(\n",
            "[[3 2]\n",
            " [5 2]], shape=(2, 2), dtype=int32)\n"
          ]
        }
      ]
    },
    {
      "cell_type": "markdown",
      "source": [
        "# Concatenation of two tensors with tf.concat"
      ],
      "metadata": {
        "id": "tRYjf-g6vmqA"
      }
    },
    {
      "cell_type": "code",
      "metadata": {
        "id": "fHQiVB2xKdl6",
        "colab": {
          "base_uri": "https://localhost:8080/"
        },
        "outputId": "252ef5a6-6027-44cf-b408-87d158c17494"
      },
      "source": [
        "A = tf.constant([[3, 2],[5, 2]])\n",
        "B = tf.constant([[9, 5],[1, 3]])\n",
        "\n",
        "# Concatenate column-wise\n",
        "AB_concatenated = tf.concat(values=[A, B], axis=1)\n",
        "print(('Adding B\\'s columns to A:\\n{0}').format(AB_concatenated.numpy()))\n",
        "\n",
        "# Concatenate row-wise\n",
        "AB_concatenated = tf.concat(values=[A, B], axis=0)\n",
        "print(('\\nAdding B\\'s rows to A:\\n{0}').format(AB_concatenated.numpy()))"
      ],
      "execution_count": 6,
      "outputs": [
        {
          "output_type": "stream",
          "name": "stdout",
          "text": [
            "Adding B's columns to A:\n",
            "[[3 2 9 5]\n",
            " [5 2 1 3]]\n",
            "\n",
            "Adding B's rows to A:\n",
            "[[3 2]\n",
            " [5 2]\n",
            " [9 5]\n",
            " [1 3]]\n"
          ]
        }
      ]
    },
    {
      "cell_type": "markdown",
      "source": [
        "# Making tensors with tf.zeros and tf.ones"
      ],
      "metadata": {
        "id": "gF6QY4x7vvjW"
      }
    },
    {
      "cell_type": "code",
      "source": [
        "# Making a tensor filled with zeros. shape=[rows, columns]\n",
        "tensor = tf.zeros(shape=[3, 4], dtype=tf.int32)\n",
        "print(('Tensor full of zeros as int32, 3 rows and 4 columns:\\n{0}').format(tensor.numpy()))\n",
        "\n",
        "# Making a tensor filled with ones with data type of float32\n",
        "tensor = tf.ones(shape=[5, 3], dtype=tf.float32)\n",
        "print(('\\nTensor full of ones as float32, 5 rows and 3 columns:\\n{0}').format(tensor.numpy()))"
      ],
      "metadata": {
        "colab": {
          "base_uri": "https://localhost:8080/"
        },
        "id": "EdLUfRYIv_T3",
        "outputId": "347b0a69-0861-427e-aced-5c1ba9d79820"
      },
      "execution_count": 7,
      "outputs": [
        {
          "output_type": "stream",
          "name": "stdout",
          "text": [
            "Tensor full of zeros as int32, 3 rows and 4 columns:\n",
            "[[0 0 0 0]\n",
            " [0 0 0 0]\n",
            " [0 0 0 0]]\n",
            "\n",
            "Tensor full of ones as float32, 5 rows and 3 columns:\n",
            "[[1. 1. 1.]\n",
            " [1. 1. 1.]\n",
            " [1. 1. 1.]\n",
            " [1. 1. 1.]\n",
            " [1. 1. 1.]]\n"
          ]
        }
      ]
    },
    {
      "cell_type": "markdown",
      "source": [
        "# Reshaping data with tf.reshape"
      ],
      "metadata": {
        "id": "qhBXE_Tgwa9t"
      }
    },
    {
      "cell_type": "code",
      "metadata": {
        "id": "lvOt_NwGK9wU",
        "colab": {
          "base_uri": "https://localhost:8080/"
        },
        "outputId": "0f27d323-9f39-4faf-b088-5b17c56a4d85"
      },
      "source": [
        "# Making a tensor for reshaping\n",
        "tensor = tf.constant([[3, 2],\n",
        "                      [5, 2],\n",
        "                      [9, 5],\n",
        "                      [1, 3]])\n",
        "\n",
        "# Reshaping the tensor into a shape of: shape = [rows, columns]\n",
        "reshaped_tensor = tf.reshape(tensor = tensor, shape = [1, 8])\n",
        "\n",
        "print(('Tensor BEFORE reshape:\\n{0}').format(tensor.numpy()))\n",
        "print(('\\nTensor AFTER reshape:\\n{0}').format(reshaped_tensor.numpy()))"
      ],
      "execution_count": 8,
      "outputs": [
        {
          "output_type": "stream",
          "name": "stdout",
          "text": [
            "Tensor BEFORE reshape:\n",
            "[[3 2]\n",
            " [5 2]\n",
            " [9 5]\n",
            " [1 3]]\n",
            "\n",
            "Tensor AFTER reshape:\n",
            "[[3 2 5 2 9 5 1 3]]\n"
          ]
        }
      ]
    },
    {
      "cell_type": "markdown",
      "source": [
        "# Casting tensors to other data types with tf.cast"
      ],
      "metadata": {
        "id": "UlRIy1N_wjiW"
      }
    },
    {
      "cell_type": "code",
      "metadata": {
        "id": "UcDbUeVyLMXk",
        "colab": {
          "base_uri": "https://localhost:8080/"
        },
        "outputId": "7fce3865-9125-493c-be58-d4eb0b803854"
      },
      "source": [
        "# Making a tensor\n",
        "tensor = tf.constant([[3.1, 2.8],\n",
        "                      [5.2, 2.3],\n",
        "                      [9.7, 5.5],\n",
        "                      [1.1, 3.4]],\n",
        "                      dtype=tf.float32)\n",
        "\n",
        "# casting the tensor as int32\n",
        "tensor_as_int = tf.cast(tensor, tf.int32)\n",
        "\n",
        "print(('Tensor with floats:\\n{0}').format(tensor.numpy()))\n",
        "print(('\\nTensor cast from float to int (just remove the decimal, no rounding):\\n{0}').format(tensor_as_int.numpy()))"
      ],
      "execution_count": 9,
      "outputs": [
        {
          "output_type": "stream",
          "name": "stdout",
          "text": [
            "Tensor with floats:\n",
            "[[3.1 2.8]\n",
            " [5.2 2.3]\n",
            " [9.7 5.5]\n",
            " [1.1 3.4]]\n",
            "\n",
            "Tensor cast from float to int (just remove the decimal, no rounding):\n",
            "[[3 2]\n",
            " [5 2]\n",
            " [9 5]\n",
            " [1 3]]\n"
          ]
        }
      ]
    },
    {
      "cell_type": "markdown",
      "source": [
        "# Linear Algebra Operations\n",
        "# Below operations are commonly used in implementing/modifying algorithms\n",
        "\n",
        "Transposing tensor with tf.transpose\n",
        "Matrix Multiplication with tf.matmul\n",
        "Element-wise multiplication with tf.multiply\n",
        "Identity Matrix with tf.eye\n",
        "Determinant with tf.linalg.det\n",
        "Dot Product with tf.*tensordot*"
      ],
      "metadata": {
        "id": "ttsRX4_cw5vx"
      }
    },
    {
      "cell_type": "markdown",
      "source": [
        "# Transposing a tensor with tf.transpose"
      ],
      "metadata": {
        "id": "siFkr6jfxqv_"
      }
    },
    {
      "cell_type": "code",
      "metadata": {
        "id": "UqIefVMoLaxS",
        "colab": {
          "base_uri": "https://localhost:8080/"
        },
        "outputId": "d89e2e2e-3f27-4b23-f35c-ddf8bad331b0"
      },
      "source": [
        "# create Matrix A\n",
        "A = tf.constant([[3, 7],[1, 9]])\n",
        "print(('The original matrix A:\\n{0}').format(A))\n",
        "A = tf.transpose(A)\n",
        "print(('The transposed matrix A:\\n{0}').format(A))"
      ],
      "execution_count": 10,
      "outputs": [
        {
          "output_type": "stream",
          "name": "stdout",
          "text": [
            "The original matrix A:\n",
            "[[3 7]\n",
            " [1 9]]\n",
            "The transposed matrix A:\n",
            "[[3 1]\n",
            " [7 9]]\n"
          ]
        }
      ]
    },
    {
      "cell_type": "markdown",
      "source": [
        "# Matrix multiplication with tf.matmul"
      ],
      "metadata": {
        "id": "Btpb4pvMx5Jl"
      }
    },
    {
      "cell_type": "code",
      "metadata": {
        "id": "vmg4RvICLbmI",
        "colab": {
          "base_uri": "https://localhost:8080/"
        },
        "outputId": "ae28723f-9795-4a54-ed29-03523ab6396e"
      },
      "source": [
        "# Some Matrix A\n",
        "A = tf.constant([[3, 7], [1, 9]])\n",
        "# Some vector v\n",
        "v = tf.constant([[5],[2]])\n",
        "# Matrix multiplication of A.v^T\n",
        "Av = tf.matmul(A, v)\n",
        "print(('Matrix Multiplication of A and v results in a new Tensor:\\n{0}').format(Av))"
      ],
      "execution_count": 11,
      "outputs": [
        {
          "output_type": "stream",
          "name": "stdout",
          "text": [
            "Matrix Multiplication of A and v results in a new Tensor:\n",
            "[[29]\n",
            " [23]]\n"
          ]
        }
      ]
    },
    {
      "cell_type": "markdown",
      "source": [
        "# Element-wise multiplication with tf.multiply"
      ],
      "metadata": {
        "id": "5JTh-V6oyHIL"
      }
    },
    {
      "cell_type": "code",
      "metadata": {
        "id": "3LZ8hQ4XLnKV",
        "colab": {
          "base_uri": "https://localhost:8080/"
        },
        "outputId": "f07a65a5-1e25-4a2c-b665-fd4e22973db2"
      },
      "source": [
        "A = tf.constant([[3, 7], [1, 9]])\n",
        "v = tf.constant([[5],[2]])\n",
        "\n",
        "# Element-wise multiplication\n",
        "Av = tf.multiply(A, v)\n",
        "print(('Element-wise multiplication of A and v results in a new Tensor:\\n{0}').format(Av))"
      ],
      "execution_count": 12,
      "outputs": [
        {
          "output_type": "stream",
          "name": "stdout",
          "text": [
            "Element-wise multiplication of A and v results in a new Tensor:\n",
            "[[15 35]\n",
            " [ 2 18]]\n"
          ]
        }
      ]
    },
    {
      "cell_type": "markdown",
      "source": [
        "# Making an identity matrix with tf.eye"
      ],
      "metadata": {
        "id": "pYiXMjS3yVvX"
      }
    },
    {
      "cell_type": "code",
      "metadata": {
        "id": "-aj0GFQCLoCU",
        "colab": {
          "base_uri": "https://localhost:8080/"
        },
        "outputId": "b0c0a0a1-5b18-4dd6-d619-6607ff8ed9d7"
      },
      "source": [
        "# Some Matrix A\n",
        "A = tf.constant([[3, 7],\n",
        "                 [1, 9],\n",
        "                 [2, 5]])\n",
        "\n",
        "# Get number of dimensions\n",
        "rows, columns = A.shape\n",
        "print(('Get rows and columns in tensor A:\\n{0} rows\\n{1} columns').format(rows, columns))\n",
        "\n",
        "# Making identity matrix\n",
        "A_identity = tf.eye(num_rows = rows,\n",
        "                    num_columns = columns,\n",
        "                    dtype = tf.int32)\n",
        "\n",
        "print(('\\nThe identity matrix of A:\\n{0}').format(A_identity.numpy()))"
      ],
      "execution_count": 13,
      "outputs": [
        {
          "output_type": "stream",
          "name": "stdout",
          "text": [
            "Get rows and columns in tensor A:\n",
            "3 rows\n",
            "2 columns\n",
            "\n",
            "The identity matrix of A:\n",
            "[[1 0]\n",
            " [0 1]\n",
            " [0 0]]\n"
          ]
        }
      ]
    },
    {
      "cell_type": "markdown",
      "source": [
        "# Finding the determinant with tf.linalg.det"
      ],
      "metadata": {
        "id": "pH7vF0RVyjhD"
      }
    },
    {
      "cell_type": "code",
      "metadata": {
        "id": "i0qFQl6AMEbY",
        "colab": {
          "base_uri": "https://localhost:8080/"
        },
        "outputId": "e4c79202-eae3-4ad3-d613-d51685964f7a"
      },
      "source": [
        "# Reusing Matrix A\n",
        "A = tf.constant([[3, 7],\n",
        "                 [1, 9]])\n",
        "\n",
        "# Determinant must be: half, float32, float64, complex64, complex128\n",
        "# Thus, we cast A to the data type float32\n",
        "A = tf.dtypes.cast(A, tf.float32)\n",
        "\n",
        "# Finding the determinant of A: determinant formulat: a*d-b*c = 3*9-1*7 = 20\n",
        "det_A = tf.linalg.det(A)\n",
        "\n",
        "print(('The determinant of A:\\n{0}').format(det_A))"
      ],
      "execution_count": 14,
      "outputs": [
        {
          "output_type": "stream",
          "name": "stdout",
          "text": [
            "The determinant of A:\n",
            "20.0\n"
          ]
        }
      ]
    },
    {
      "cell_type": "markdown",
      "source": [
        "# find the dot product with tf.tensordot"
      ],
      "metadata": {
        "id": "NtQHcohCzbbM"
      }
    },
    {
      "cell_type": "code",
      "source": [
        "# Defining a 3x3 matrix\n",
        "A = tf.constant([[3, 8, 5],\n",
        "                 [1, 2, 1],\n",
        "                 [5, 3, 2]])\n",
        "\n",
        "# Defining another 3x3 matrix\n",
        "B = tf.constant([[2, 5, 0],\n",
        "                 [1, 0, 5],\n",
        "                 [3, 1, 5]])\n",
        "\n",
        "# Finding the dot product\n",
        "dot_AB = tf.tensordot(a=A, b=B, axes=1).numpy()\n",
        "\n",
        "print(('Dot product of A.B^T results in a new Tensor:\\n{0}').format(dot_AB))\n",
        "\n",
        "# Which is the same as matrix multiplication in this instance (axes=1)\n",
        "# Matrix multiplication of A and B\n",
        "AB = tf.matmul(A, B)\n",
        "\n",
        "print(('\\nMatrix Multiplication of A.B^T results in a new Tensor:\\n{0}').format(AB))"
      ],
      "metadata": {
        "colab": {
          "base_uri": "https://localhost:8080/"
        },
        "id": "gRLEwNTrzeDb",
        "outputId": "5cfb42ff-8709-452e-b8ca-abdbd79ab078"
      },
      "execution_count": 15,
      "outputs": [
        {
          "output_type": "stream",
          "name": "stdout",
          "text": [
            "Dot product of A.B^T results in a new Tensor:\n",
            "[[29 20 65]\n",
            " [ 7  6 15]\n",
            " [19 27 25]]\n",
            "\n",
            "Matrix Multiplication of A.B^T results in a new Tensor:\n",
            "[[29 20 65]\n",
            " [ 7  6 15]\n",
            " [19 27 25]]\n"
          ]
        }
      ]
    },
    {
      "cell_type": "markdown",
      "source": [
        "# Basic pytorch operations"
      ],
      "metadata": {
        "id": "fmtlpiJOzlHK"
      }
    },
    {
      "cell_type": "code",
      "source": [
        "# initializing a numpy array\n",
        "a = np.array(1)\n",
        "\n",
        "# initializing a tensor\n",
        "b = torch.tensor(1)\n",
        "print(\"a:\", a)\n",
        "print(\"b:\", b)"
      ],
      "metadata": {
        "colab": {
          "base_uri": "https://localhost:8080/"
        },
        "id": "gjaPzDMOyvsq",
        "outputId": "f963b324-2f4e-448c-a0e8-0e590d153a72"
      },
      "execution_count": 16,
      "outputs": [
        {
          "output_type": "stream",
          "name": "stdout",
          "text": [
            "a: 1\n",
            "b: tensor(1)\n"
          ]
        }
      ]
    },
    {
      "cell_type": "code",
      "source": [
        "# 2 matrices of size 2x3 into a 3d tensor 2x2x3\n",
        "d = [ [[1., 2.,3.], [4.,5.,6.]], [[7.,8.,9.], [11.,12.,13.]] ]\n",
        "print(\"shape of the list:\", np.array(d).shape)\n",
        "\n",
        "d = torch.Tensor(d) # array from python list\n",
        "print(\"shape of the tensor:\", d.size())\n",
        "\n",
        "# the first index is the depth\n",
        "z = d[0] + d[1]\n",
        "print(\"adding up the two matrices of the 3d tensor:\",z)"
      ],
      "metadata": {
        "colab": {
          "base_uri": "https://localhost:8080/"
        },
        "id": "xCpFTRgQzvD2",
        "outputId": "9a7d512b-e9af-4200-935c-44ad65b37032"
      },
      "execution_count": 17,
      "outputs": [
        {
          "output_type": "stream",
          "name": "stdout",
          "text": [
            "shape of the list: (2, 2, 3)\n",
            "shape of the tensor: torch.Size([2, 2, 3])\n",
            "adding up the two matrices of the 3d tensor: tensor([[ 8., 10., 12.],\n",
            "        [15., 17., 19.]])\n"
          ]
        }
      ]
    }
  ]
}